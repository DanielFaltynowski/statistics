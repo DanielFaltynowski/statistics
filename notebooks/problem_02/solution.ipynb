{
 "cells": [
  {
   "cell_type": "markdown",
   "id": "33bd63a6",
   "metadata": {},
   "source": [
    "## Step 1: Importing Data with Pandas\n",
    "\n",
    "The first step is to import the FIFA dataset from a CSV file using the Pandas library. The dataset contains many types of data, but the goal is to focus only on the relevant ones."
   ]
  },
  {
   "cell_type": "code",
   "execution_count": 1,
   "id": "b6c1f79f",
   "metadata": {},
   "outputs": [],
   "source": [
    "import pandas as pd\n",
    "import matplotlib.pyplot as plt\n",
    "import matplotlib.ticker as ticker"
   ]
  },
  {
   "cell_type": "code",
   "execution_count": 2,
   "id": "12282b1d",
   "metadata": {},
   "outputs": [
    {
     "data": {
      "text/html": [
       "<div>\n",
       "<style scoped>\n",
       "    .dataframe tbody tr th:only-of-type {\n",
       "        vertical-align: middle;\n",
       "    }\n",
       "\n",
       "    .dataframe tbody tr th {\n",
       "        vertical-align: top;\n",
       "    }\n",
       "\n",
       "    .dataframe thead th {\n",
       "        text-align: right;\n",
       "    }\n",
       "</style>\n",
       "<table border=\"1\" class=\"dataframe\">\n",
       "  <thead>\n",
       "    <tr style=\"text-align: right;\">\n",
       "      <th></th>\n",
       "      <th>ID</th>\n",
       "      <th>Name</th>\n",
       "      <th>Age</th>\n",
       "      <th>Nationality</th>\n",
       "      <th>Overall</th>\n",
       "      <th>Potential</th>\n",
       "      <th>Club</th>\n",
       "      <th>Value</th>\n",
       "      <th>Wage</th>\n",
       "      <th>Preferred Foot</th>\n",
       "      <th>...</th>\n",
       "      <th>Composure</th>\n",
       "      <th>Marking</th>\n",
       "      <th>StandingTackle</th>\n",
       "      <th>SlidingTackle</th>\n",
       "      <th>GKDiving</th>\n",
       "      <th>GKHandling</th>\n",
       "      <th>GKKicking</th>\n",
       "      <th>GKPositioning</th>\n",
       "      <th>GKReflexes</th>\n",
       "      <th>Release Clause</th>\n",
       "    </tr>\n",
       "  </thead>\n",
       "  <tbody>\n",
       "    <tr>\n",
       "      <th>0</th>\n",
       "      <td>158023</td>\n",
       "      <td>L. Messi</td>\n",
       "      <td>31</td>\n",
       "      <td>Argentina</td>\n",
       "      <td>94</td>\n",
       "      <td>94</td>\n",
       "      <td>FC Barcelona</td>\n",
       "      <td>€110.5M</td>\n",
       "      <td>€565K</td>\n",
       "      <td>Left</td>\n",
       "      <td>...</td>\n",
       "      <td>96.0</td>\n",
       "      <td>33.0</td>\n",
       "      <td>28.0</td>\n",
       "      <td>26.0</td>\n",
       "      <td>6.0</td>\n",
       "      <td>11.0</td>\n",
       "      <td>15.0</td>\n",
       "      <td>14.0</td>\n",
       "      <td>8.0</td>\n",
       "      <td>€226.5M</td>\n",
       "    </tr>\n",
       "    <tr>\n",
       "      <th>1</th>\n",
       "      <td>20801</td>\n",
       "      <td>Cristiano Ronaldo</td>\n",
       "      <td>33</td>\n",
       "      <td>Portugal</td>\n",
       "      <td>94</td>\n",
       "      <td>94</td>\n",
       "      <td>Juventus</td>\n",
       "      <td>€77M</td>\n",
       "      <td>€405K</td>\n",
       "      <td>Right</td>\n",
       "      <td>...</td>\n",
       "      <td>95.0</td>\n",
       "      <td>28.0</td>\n",
       "      <td>31.0</td>\n",
       "      <td>23.0</td>\n",
       "      <td>7.0</td>\n",
       "      <td>11.0</td>\n",
       "      <td>15.0</td>\n",
       "      <td>14.0</td>\n",
       "      <td>11.0</td>\n",
       "      <td>€127.1M</td>\n",
       "    </tr>\n",
       "    <tr>\n",
       "      <th>2</th>\n",
       "      <td>190871</td>\n",
       "      <td>Neymar Jr</td>\n",
       "      <td>26</td>\n",
       "      <td>Brazil</td>\n",
       "      <td>92</td>\n",
       "      <td>93</td>\n",
       "      <td>Paris Saint-Germain</td>\n",
       "      <td>€118.5M</td>\n",
       "      <td>€290K</td>\n",
       "      <td>Right</td>\n",
       "      <td>...</td>\n",
       "      <td>94.0</td>\n",
       "      <td>27.0</td>\n",
       "      <td>24.0</td>\n",
       "      <td>33.0</td>\n",
       "      <td>9.0</td>\n",
       "      <td>9.0</td>\n",
       "      <td>15.0</td>\n",
       "      <td>15.0</td>\n",
       "      <td>11.0</td>\n",
       "      <td>€228.1M</td>\n",
       "    </tr>\n",
       "    <tr>\n",
       "      <th>3</th>\n",
       "      <td>193080</td>\n",
       "      <td>De Gea</td>\n",
       "      <td>27</td>\n",
       "      <td>Spain</td>\n",
       "      <td>91</td>\n",
       "      <td>93</td>\n",
       "      <td>Manchester United</td>\n",
       "      <td>€72M</td>\n",
       "      <td>€260K</td>\n",
       "      <td>Right</td>\n",
       "      <td>...</td>\n",
       "      <td>68.0</td>\n",
       "      <td>15.0</td>\n",
       "      <td>21.0</td>\n",
       "      <td>13.0</td>\n",
       "      <td>90.0</td>\n",
       "      <td>85.0</td>\n",
       "      <td>87.0</td>\n",
       "      <td>88.0</td>\n",
       "      <td>94.0</td>\n",
       "      <td>€138.6M</td>\n",
       "    </tr>\n",
       "    <tr>\n",
       "      <th>4</th>\n",
       "      <td>192985</td>\n",
       "      <td>K. De Bruyne</td>\n",
       "      <td>27</td>\n",
       "      <td>Belgium</td>\n",
       "      <td>91</td>\n",
       "      <td>92</td>\n",
       "      <td>Manchester City</td>\n",
       "      <td>€102M</td>\n",
       "      <td>€355K</td>\n",
       "      <td>Right</td>\n",
       "      <td>...</td>\n",
       "      <td>88.0</td>\n",
       "      <td>68.0</td>\n",
       "      <td>58.0</td>\n",
       "      <td>51.0</td>\n",
       "      <td>15.0</td>\n",
       "      <td>13.0</td>\n",
       "      <td>5.0</td>\n",
       "      <td>10.0</td>\n",
       "      <td>13.0</td>\n",
       "      <td>€196.4M</td>\n",
       "    </tr>\n",
       "    <tr>\n",
       "      <th>...</th>\n",
       "      <td>...</td>\n",
       "      <td>...</td>\n",
       "      <td>...</td>\n",
       "      <td>...</td>\n",
       "      <td>...</td>\n",
       "      <td>...</td>\n",
       "      <td>...</td>\n",
       "      <td>...</td>\n",
       "      <td>...</td>\n",
       "      <td>...</td>\n",
       "      <td>...</td>\n",
       "      <td>...</td>\n",
       "      <td>...</td>\n",
       "      <td>...</td>\n",
       "      <td>...</td>\n",
       "      <td>...</td>\n",
       "      <td>...</td>\n",
       "      <td>...</td>\n",
       "      <td>...</td>\n",
       "      <td>...</td>\n",
       "      <td>...</td>\n",
       "    </tr>\n",
       "    <tr>\n",
       "      <th>18202</th>\n",
       "      <td>238813</td>\n",
       "      <td>J. Lundstram</td>\n",
       "      <td>19</td>\n",
       "      <td>England</td>\n",
       "      <td>47</td>\n",
       "      <td>65</td>\n",
       "      <td>Crewe Alexandra</td>\n",
       "      <td>€60K</td>\n",
       "      <td>€1K</td>\n",
       "      <td>Right</td>\n",
       "      <td>...</td>\n",
       "      <td>45.0</td>\n",
       "      <td>40.0</td>\n",
       "      <td>48.0</td>\n",
       "      <td>47.0</td>\n",
       "      <td>10.0</td>\n",
       "      <td>13.0</td>\n",
       "      <td>7.0</td>\n",
       "      <td>8.0</td>\n",
       "      <td>9.0</td>\n",
       "      <td>€143K</td>\n",
       "    </tr>\n",
       "    <tr>\n",
       "      <th>18203</th>\n",
       "      <td>243165</td>\n",
       "      <td>N. Christoffersson</td>\n",
       "      <td>19</td>\n",
       "      <td>Sweden</td>\n",
       "      <td>47</td>\n",
       "      <td>63</td>\n",
       "      <td>Trelleborgs FF</td>\n",
       "      <td>€60K</td>\n",
       "      <td>€1K</td>\n",
       "      <td>Right</td>\n",
       "      <td>...</td>\n",
       "      <td>42.0</td>\n",
       "      <td>22.0</td>\n",
       "      <td>15.0</td>\n",
       "      <td>19.0</td>\n",
       "      <td>10.0</td>\n",
       "      <td>9.0</td>\n",
       "      <td>9.0</td>\n",
       "      <td>5.0</td>\n",
       "      <td>12.0</td>\n",
       "      <td>€113K</td>\n",
       "    </tr>\n",
       "    <tr>\n",
       "      <th>18204</th>\n",
       "      <td>241638</td>\n",
       "      <td>B. Worman</td>\n",
       "      <td>16</td>\n",
       "      <td>England</td>\n",
       "      <td>47</td>\n",
       "      <td>67</td>\n",
       "      <td>Cambridge United</td>\n",
       "      <td>€60K</td>\n",
       "      <td>€1K</td>\n",
       "      <td>Right</td>\n",
       "      <td>...</td>\n",
       "      <td>41.0</td>\n",
       "      <td>32.0</td>\n",
       "      <td>13.0</td>\n",
       "      <td>11.0</td>\n",
       "      <td>6.0</td>\n",
       "      <td>5.0</td>\n",
       "      <td>10.0</td>\n",
       "      <td>6.0</td>\n",
       "      <td>13.0</td>\n",
       "      <td>€165K</td>\n",
       "    </tr>\n",
       "    <tr>\n",
       "      <th>18205</th>\n",
       "      <td>246268</td>\n",
       "      <td>D. Walker-Rice</td>\n",
       "      <td>17</td>\n",
       "      <td>England</td>\n",
       "      <td>47</td>\n",
       "      <td>66</td>\n",
       "      <td>Tranmere Rovers</td>\n",
       "      <td>€60K</td>\n",
       "      <td>€1K</td>\n",
       "      <td>Right</td>\n",
       "      <td>...</td>\n",
       "      <td>46.0</td>\n",
       "      <td>20.0</td>\n",
       "      <td>25.0</td>\n",
       "      <td>27.0</td>\n",
       "      <td>14.0</td>\n",
       "      <td>6.0</td>\n",
       "      <td>14.0</td>\n",
       "      <td>8.0</td>\n",
       "      <td>9.0</td>\n",
       "      <td>€143K</td>\n",
       "    </tr>\n",
       "    <tr>\n",
       "      <th>18206</th>\n",
       "      <td>246269</td>\n",
       "      <td>G. Nugent</td>\n",
       "      <td>16</td>\n",
       "      <td>England</td>\n",
       "      <td>46</td>\n",
       "      <td>66</td>\n",
       "      <td>Tranmere Rovers</td>\n",
       "      <td>€60K</td>\n",
       "      <td>€1K</td>\n",
       "      <td>Right</td>\n",
       "      <td>...</td>\n",
       "      <td>43.0</td>\n",
       "      <td>40.0</td>\n",
       "      <td>43.0</td>\n",
       "      <td>50.0</td>\n",
       "      <td>10.0</td>\n",
       "      <td>15.0</td>\n",
       "      <td>9.0</td>\n",
       "      <td>12.0</td>\n",
       "      <td>9.0</td>\n",
       "      <td>€165K</td>\n",
       "    </tr>\n",
       "  </tbody>\n",
       "</table>\n",
       "<p>18207 rows × 57 columns</p>\n",
       "</div>"
      ],
      "text/plain": [
       "           ID                Name  Age Nationality  Overall  Potential  \\\n",
       "0      158023            L. Messi   31   Argentina       94         94   \n",
       "1       20801   Cristiano Ronaldo   33    Portugal       94         94   \n",
       "2      190871           Neymar Jr   26      Brazil       92         93   \n",
       "3      193080              De Gea   27       Spain       91         93   \n",
       "4      192985        K. De Bruyne   27     Belgium       91         92   \n",
       "...       ...                 ...  ...         ...      ...        ...   \n",
       "18202  238813        J. Lundstram   19     England       47         65   \n",
       "18203  243165  N. Christoffersson   19      Sweden       47         63   \n",
       "18204  241638           B. Worman   16     England       47         67   \n",
       "18205  246268      D. Walker-Rice   17     England       47         66   \n",
       "18206  246269           G. Nugent   16     England       46         66   \n",
       "\n",
       "                      Club    Value   Wage Preferred Foot  ...  Composure  \\\n",
       "0             FC Barcelona  €110.5M  €565K           Left  ...       96.0   \n",
       "1                 Juventus     €77M  €405K          Right  ...       95.0   \n",
       "2      Paris Saint-Germain  €118.5M  €290K          Right  ...       94.0   \n",
       "3        Manchester United     €72M  €260K          Right  ...       68.0   \n",
       "4          Manchester City    €102M  €355K          Right  ...       88.0   \n",
       "...                    ...      ...    ...            ...  ...        ...   \n",
       "18202      Crewe Alexandra     €60K    €1K          Right  ...       45.0   \n",
       "18203       Trelleborgs FF     €60K    €1K          Right  ...       42.0   \n",
       "18204     Cambridge United     €60K    €1K          Right  ...       41.0   \n",
       "18205      Tranmere Rovers     €60K    €1K          Right  ...       46.0   \n",
       "18206      Tranmere Rovers     €60K    €1K          Right  ...       43.0   \n",
       "\n",
       "       Marking  StandingTackle SlidingTackle GKDiving GKHandling  GKKicking  \\\n",
       "0         33.0            28.0          26.0      6.0       11.0       15.0   \n",
       "1         28.0            31.0          23.0      7.0       11.0       15.0   \n",
       "2         27.0            24.0          33.0      9.0        9.0       15.0   \n",
       "3         15.0            21.0          13.0     90.0       85.0       87.0   \n",
       "4         68.0            58.0          51.0     15.0       13.0        5.0   \n",
       "...        ...             ...           ...      ...        ...        ...   \n",
       "18202     40.0            48.0          47.0     10.0       13.0        7.0   \n",
       "18203     22.0            15.0          19.0     10.0        9.0        9.0   \n",
       "18204     32.0            13.0          11.0      6.0        5.0       10.0   \n",
       "18205     20.0            25.0          27.0     14.0        6.0       14.0   \n",
       "18206     40.0            43.0          50.0     10.0       15.0        9.0   \n",
       "\n",
       "      GKPositioning GKReflexes Release Clause  \n",
       "0              14.0        8.0        €226.5M  \n",
       "1              14.0       11.0        €127.1M  \n",
       "2              15.0       11.0        €228.1M  \n",
       "3              88.0       94.0        €138.6M  \n",
       "4              10.0       13.0        €196.4M  \n",
       "...             ...        ...            ...  \n",
       "18202           8.0        9.0          €143K  \n",
       "18203           5.0       12.0          €113K  \n",
       "18204           6.0       13.0          €165K  \n",
       "18205           8.0        9.0          €143K  \n",
       "18206          12.0        9.0          €165K  \n",
       "\n",
       "[18207 rows x 57 columns]"
      ]
     },
     "execution_count": 2,
     "metadata": {},
     "output_type": "execute_result"
    }
   ],
   "source": [
    "data = pd.read_csv('csv/fifa_eda_stats.csv')\n",
    "data"
   ]
  },
  {
   "cell_type": "markdown",
   "id": "6cd0d3de",
   "metadata": {},
   "source": [
    "## Step 2: Hypothesis One: Younger players (under 25) are more valuable on the transfer market than older players.\n",
    "\n",
    "Determining whether the hypothesis is confirmed or rejected is very difficult, even when using the null hypothesis.\n",
    "\n",
    "$H_0$: There is no difference between the value of younger players and older ones.\n",
    "\n",
    "The very first step is to convert the data into the appropriate format. First, I extracted the age and value from every row, then processed strings like `€123.45M` or `€67.8K` into `123450000` and `67800`, respectively. I also divided the data into two sets: one containing players older than 25 years, and the other with younger players."
   ]
  },
  {
   "cell_type": "code",
   "execution_count": 3,
   "id": "91108f59",
   "metadata": {},
   "outputs": [
    {
     "data": {
      "text/html": [
       "<div>\n",
       "<style scoped>\n",
       "    .dataframe tbody tr th:only-of-type {\n",
       "        vertical-align: middle;\n",
       "    }\n",
       "\n",
       "    .dataframe tbody tr th {\n",
       "        vertical-align: top;\n",
       "    }\n",
       "\n",
       "    .dataframe thead th {\n",
       "        text-align: right;\n",
       "    }\n",
       "</style>\n",
       "<table border=\"1\" class=\"dataframe\">\n",
       "  <thead>\n",
       "    <tr style=\"text-align: right;\">\n",
       "      <th></th>\n",
       "      <th>Age</th>\n",
       "      <th>Value</th>\n",
       "    </tr>\n",
       "  </thead>\n",
       "  <tbody>\n",
       "    <tr>\n",
       "      <th>0</th>\n",
       "      <td>31</td>\n",
       "      <td>110500000.0</td>\n",
       "    </tr>\n",
       "    <tr>\n",
       "      <th>1</th>\n",
       "      <td>33</td>\n",
       "      <td>77000000.0</td>\n",
       "    </tr>\n",
       "    <tr>\n",
       "      <th>2</th>\n",
       "      <td>26</td>\n",
       "      <td>118500000.0</td>\n",
       "    </tr>\n",
       "    <tr>\n",
       "      <th>3</th>\n",
       "      <td>27</td>\n",
       "      <td>72000000.0</td>\n",
       "    </tr>\n",
       "    <tr>\n",
       "      <th>4</th>\n",
       "      <td>27</td>\n",
       "      <td>102000000.0</td>\n",
       "    </tr>\n",
       "    <tr>\n",
       "      <th>...</th>\n",
       "      <td>...</td>\n",
       "      <td>...</td>\n",
       "    </tr>\n",
       "    <tr>\n",
       "      <th>18202</th>\n",
       "      <td>19</td>\n",
       "      <td>60000.0</td>\n",
       "    </tr>\n",
       "    <tr>\n",
       "      <th>18203</th>\n",
       "      <td>19</td>\n",
       "      <td>60000.0</td>\n",
       "    </tr>\n",
       "    <tr>\n",
       "      <th>18204</th>\n",
       "      <td>16</td>\n",
       "      <td>60000.0</td>\n",
       "    </tr>\n",
       "    <tr>\n",
       "      <th>18205</th>\n",
       "      <td>17</td>\n",
       "      <td>60000.0</td>\n",
       "    </tr>\n",
       "    <tr>\n",
       "      <th>18206</th>\n",
       "      <td>16</td>\n",
       "      <td>60000.0</td>\n",
       "    </tr>\n",
       "  </tbody>\n",
       "</table>\n",
       "<p>17955 rows × 2 columns</p>\n",
       "</div>"
      ],
      "text/plain": [
       "       Age        Value\n",
       "0       31  110500000.0\n",
       "1       33   77000000.0\n",
       "2       26  118500000.0\n",
       "3       27   72000000.0\n",
       "4       27  102000000.0\n",
       "...    ...          ...\n",
       "18202   19      60000.0\n",
       "18203   19      60000.0\n",
       "18204   16      60000.0\n",
       "18205   17      60000.0\n",
       "18206   16      60000.0\n",
       "\n",
       "[17955 rows x 2 columns]"
      ]
     },
     "execution_count": 3,
     "metadata": {},
     "output_type": "execute_result"
    }
   ],
   "source": [
    "hypo_age = data[[\n",
    "    'Age',\n",
    "    'Value'\n",
    "]].copy()\n",
    "\n",
    "hypo_age['Age'] = hypo_age['Age'].astype(int)\n",
    "hypo_age['Value'] = hypo_age['Value'].str.replace('€', '', regex=False)\n",
    "hypo_age = hypo_age.dropna()\n",
    "hypo_age['Value'] = hypo_age['Value'].apply(\n",
    "    lambda value: float(value[:-1]) * 1000000 if value[-1] == 'M' else float(value[:-1]) * 1000 if value[-1] == 'K' else 0\n",
    ")\n",
    "hypo_age = hypo_age[ hypo_age['Value'] != 0 ]\n",
    "\n",
    "hypo_age"
   ]
  },
  {
   "cell_type": "code",
   "execution_count": 4,
   "id": "a2e20766",
   "metadata": {},
   "outputs": [],
   "source": [
    "hypo_age_under_25 = hypo_age[hypo_age['Age'] < 25]\n",
    "hypo_age_under_25 = hypo_age_under_25['Value'].tolist()\n",
    "\n",
    "hypo_age_under_25 = [ float(value) for value in hypo_age_under_25 ]"
   ]
  },
  {
   "cell_type": "code",
   "execution_count": 5,
   "id": "e7782ff9",
   "metadata": {},
   "outputs": [],
   "source": [
    "hypo_age_over_25 = hypo_age[hypo_age['Age'] >= 25]\n",
    "hypo_age_over_25 = hypo_age_over_25['Value'].tolist()\n",
    "\n",
    "hypo_age_over_25 = [ float(value) for value in hypo_age_over_25 ]"
   ]
  },
  {
   "cell_type": "code",
   "execution_count": 6,
   "id": "daf79299",
   "metadata": {},
   "outputs": [],
   "source": [
    "import os\n",
    "import sys\n",
    "\n",
    "sys.path.append(os.path.abspath(os.path.join(os.getcwd(), '..', '..')))\n",
    "\n",
    "import src.descriptive_statistics as ds\n",
    "import src.hypothesis_testing as ht\n",
    "import src.distributions as dist\n",
    "import src.generator as gen"
   ]
  },
  {
   "cell_type": "markdown",
   "id": "5dc3c774",
   "metadata": {},
   "source": [
    "In my experiment, I used the z-test because it is suitable for very large datasets containing more than 30 elements.\n",
    "\n",
    "If $p < 0.05$, then I can reject the null hypothesis $H_0$, meaning that these two sets come from different distributions. Otherwise, there is no reason to reject $H_0$."
   ]
  },
  {
   "cell_type": "code",
   "execution_count": 7,
   "id": "00d4a6f3",
   "metadata": {},
   "outputs": [
    {
     "name": "stdout",
     "output_type": "stream",
     "text": [
      "{'z-statictics': -13.962410240789595, 'p-value': -8.881784197001252e-16, 'degrees_of_freedom': 17953}\n"
     ]
    }
   ],
   "source": [
    "print(ht.independent_samples_z_test(\n",
    "    sample_one = hypo_age_under_25,\n",
    "    sample_two = hypo_age_over_25\n",
    "))"
   ]
  },
  {
   "cell_type": "markdown",
   "id": "80c25283",
   "metadata": {},
   "source": [
    "The p-value is less than 0.05, so the null hypothesis is rejected. This means there is a significant difference between players under 25 and those over 25."
   ]
  },
  {
   "cell_type": "markdown",
   "id": "b4dbbf81",
   "metadata": {},
   "source": [
    "I decided to examine the differences using descriptive statistical measures."
   ]
  },
  {
   "cell_type": "code",
   "execution_count": 8,
   "id": "df5ef8f6",
   "metadata": {},
   "outputs": [],
   "source": [
    "under_25_mean = ds.mean(hypo_age_under_25)\n",
    "under_25_median = ds.median(hypo_age_under_25)\n",
    "under_25_std = ds.standard_deviation(hypo_age_under_25)\n",
    "\n",
    "over_25_mean = ds.mean(hypo_age_over_25)\n",
    "over_25_median = ds.median(hypo_age_over_25)\n",
    "over_25_std = ds.standard_deviation(hypo_age_over_25)"
   ]
  },
  {
   "cell_type": "code",
   "execution_count": 9,
   "id": "9f6c5503",
   "metadata": {},
   "outputs": [
    {
     "name": "stdout",
     "output_type": "stream",
     "text": [
      "Value mean < 25: 1849272.6540938362 versus >= 25: 3003592.7205961766\n",
      "Value median < 25: 550000.0 versus >= 25: 850000.0\n",
      "Value std < 25: 4490463.571286637 versus >= 25: 6466415.207308098\n"
     ]
    },
    {
     "data": {
      "image/png": "[encoded data removed]",
      "text/plain": [
       "<Figure size 640x480 with 1 Axes>"
      ]
     },
     "metadata": {},
     "output_type": "display_data"
    },
    {
     "data": {
      "image/png": "[encoded data removed]",
      "text/plain": [
       "<Figure size 640x480 with 1 Axes>"
      ]
     },
     "metadata": {},
     "output_type": "display_data"
    },
    {
     "data": {
      "image/png": "[encoded data removed]",
      "text/plain": [
       "<Figure size 640x480 with 1 Axes>"
      ]
     },
     "metadata": {},
     "output_type": "display_data"
    }
   ],
   "source": [
    "print('Value mean < 25:', under_25_mean, 'versus >= 25:', over_25_mean)\n",
    "print('Value median < 25:', under_25_median, 'versus >= 25:', over_25_median)\n",
    "print('Value std < 25:', under_25_std, 'versus >= 25:', over_25_std)\n",
    "\n",
    "plt.hist(hypo_age_under_25, density=True, bins=30, color='lightblue')\n",
    "plt.axvline(under_25_mean, color='red')\n",
    "plt.xticks(rotation=90)\n",
    "plt.gca().xaxis.set_major_formatter(ticker.FuncFormatter(lambda x, _: f'{int(x):,}'))\n",
    "plt.show()\n",
    "\n",
    "plt.hist(hypo_age_over_25, density=True, bins=30, color='orange')\n",
    "plt.axvline(over_25_mean, color='red')\n",
    "plt.xticks(rotation=90)\n",
    "plt.gca().xaxis.set_major_formatter(ticker.FuncFormatter(lambda x, _: f'{int(x):,}'))\n",
    "plt.show()\n",
    "\n",
    "plt.hist(hypo_age_under_25, density=True, bins=30, color='lightblue')\n",
    "plt.hist(hypo_age_over_25, density=True, bins=30, color='orange')\n",
    "plt.xticks(rotation=90)\n",
    "plt.gca().xaxis.set_major_formatter(ticker.FuncFormatter(lambda x, _: f'{int(x):,}'))\n",
    "plt.show()"
   ]
  },
  {
   "cell_type": "markdown",
   "id": "15e4614d",
   "metadata": {},
   "source": [
    "Because the measurement results are greater for the older players, I have found evidence that the main hypothesis is false, as older players are more valuable.\n"
   ]
  },
  {
   "cell_type": "markdown",
   "id": "0433871e",
   "metadata": {},
   "source": [
    "### Step 3: Brazilian players have a higher average skill rating (measured by dribbling and ball control) than German players.\n",
    "\n",
    "As in the second step, I divided the dataset into two parts: one containing information about Brazilian players and the other about German players. I also added an additional column representing the mean of the `Dribbling` and `BallControl` columns.\n",
    "\n",
    "$H_0$: There is no difference in the average skill rating between Brazilian and German players."
   ]
  },
  {
   "cell_type": "code",
   "execution_count": 10,
   "id": "cf8c002f",
   "metadata": {},
   "outputs": [
    {
     "data": {
      "text/html": [
       "<div>\n",
       "<style scoped>\n",
       "    .dataframe tbody tr th:only-of-type {\n",
       "        vertical-align: middle;\n",
       "    }\n",
       "\n",
       "    .dataframe tbody tr th {\n",
       "        vertical-align: top;\n",
       "    }\n",
       "\n",
       "    .dataframe thead th {\n",
       "        text-align: right;\n",
       "    }\n",
       "</style>\n",
       "<table border=\"1\" class=\"dataframe\">\n",
       "  <thead>\n",
       "    <tr style=\"text-align: right;\">\n",
       "      <th></th>\n",
       "      <th>Nationality</th>\n",
       "      <th>Dribbling</th>\n",
       "      <th>BallControl</th>\n",
       "      <th>AverageSkills</th>\n",
       "    </tr>\n",
       "  </thead>\n",
       "  <tbody>\n",
       "    <tr>\n",
       "      <th>0</th>\n",
       "      <td>Argentina</td>\n",
       "      <td>97.0</td>\n",
       "      <td>96.0</td>\n",
       "      <td>96.5</td>\n",
       "    </tr>\n",
       "    <tr>\n",
       "      <th>1</th>\n",
       "      <td>Portugal</td>\n",
       "      <td>88.0</td>\n",
       "      <td>94.0</td>\n",
       "      <td>91.0</td>\n",
       "    </tr>\n",
       "    <tr>\n",
       "      <th>2</th>\n",
       "      <td>Brazil</td>\n",
       "      <td>96.0</td>\n",
       "      <td>95.0</td>\n",
       "      <td>95.5</td>\n",
       "    </tr>\n",
       "    <tr>\n",
       "      <th>3</th>\n",
       "      <td>Spain</td>\n",
       "      <td>18.0</td>\n",
       "      <td>42.0</td>\n",
       "      <td>30.0</td>\n",
       "    </tr>\n",
       "    <tr>\n",
       "      <th>4</th>\n",
       "      <td>Belgium</td>\n",
       "      <td>86.0</td>\n",
       "      <td>91.0</td>\n",
       "      <td>88.5</td>\n",
       "    </tr>\n",
       "    <tr>\n",
       "      <th>...</th>\n",
       "      <td>...</td>\n",
       "      <td>...</td>\n",
       "      <td>...</td>\n",
       "      <td>...</td>\n",
       "    </tr>\n",
       "    <tr>\n",
       "      <th>18202</th>\n",
       "      <td>England</td>\n",
       "      <td>42.0</td>\n",
       "      <td>43.0</td>\n",
       "      <td>42.5</td>\n",
       "    </tr>\n",
       "    <tr>\n",
       "      <th>18203</th>\n",
       "      <td>Sweden</td>\n",
       "      <td>39.0</td>\n",
       "      <td>40.0</td>\n",
       "      <td>39.5</td>\n",
       "    </tr>\n",
       "    <tr>\n",
       "      <th>18204</th>\n",
       "      <td>England</td>\n",
       "      <td>45.0</td>\n",
       "      <td>44.0</td>\n",
       "      <td>44.5</td>\n",
       "    </tr>\n",
       "    <tr>\n",
       "      <th>18205</th>\n",
       "      <td>England</td>\n",
       "      <td>51.0</td>\n",
       "      <td>52.0</td>\n",
       "      <td>51.5</td>\n",
       "    </tr>\n",
       "    <tr>\n",
       "      <th>18206</th>\n",
       "      <td>England</td>\n",
       "      <td>43.0</td>\n",
       "      <td>51.0</td>\n",
       "      <td>47.0</td>\n",
       "    </tr>\n",
       "  </tbody>\n",
       "</table>\n",
       "<p>18207 rows × 4 columns</p>\n",
       "</div>"
      ],
      "text/plain": [
       "      Nationality  Dribbling  BallControl  AverageSkills\n",
       "0       Argentina       97.0         96.0           96.5\n",
       "1        Portugal       88.0         94.0           91.0\n",
       "2          Brazil       96.0         95.0           95.5\n",
       "3           Spain       18.0         42.0           30.0\n",
       "4         Belgium       86.0         91.0           88.5\n",
       "...           ...        ...          ...            ...\n",
       "18202     England       42.0         43.0           42.5\n",
       "18203      Sweden       39.0         40.0           39.5\n",
       "18204     England       45.0         44.0           44.5\n",
       "18205     England       51.0         52.0           51.5\n",
       "18206     England       43.0         51.0           47.0\n",
       "\n",
       "[18207 rows x 4 columns]"
      ]
     },
     "execution_count": 10,
     "metadata": {},
     "output_type": "execute_result"
    }
   ],
   "source": [
    "hypo_nationality = data[[\n",
    "    'Nationality',\n",
    "    'Dribbling',\n",
    "    'BallControl'\n",
    "]].copy()\n",
    "\n",
    "hypo_nationality['Dribbling'] = hypo_nationality['Dribbling'].astype(float)\n",
    "hypo_nationality['BallControl'] = hypo_nationality['BallControl'].astype(float)\n",
    "hypo_nationality['AverageSkills'] = ( hypo_nationality['Dribbling'] + hypo_nationality['BallControl'] ) / 2\n",
    "\n",
    "hypo_nationality"
   ]
  },
  {
   "cell_type": "code",
   "execution_count": 11,
   "id": "9c54f30d",
   "metadata": {},
   "outputs": [],
   "source": [
    "hypo_nationality_brazil = hypo_nationality[ hypo_nationality['Nationality'] == 'Brazil' ]\n",
    "hypo_nationality_brazil = hypo_nationality_brazil.dropna()\n",
    "hypo_nationality_brazil = hypo_nationality_brazil['AverageSkills'].tolist()\n",
    "hypo_nationality_brazil = [ float(value) for value in list(hypo_nationality_brazil) ]"
   ]
  },
  {
   "cell_type": "code",
   "execution_count": 12,
   "id": "4714e6a7",
   "metadata": {},
   "outputs": [],
   "source": [
    "hypo_nationality_germany = hypo_nationality[ hypo_nationality['Nationality'] == 'Germany' ]\n",
    "hypo_nationality_germany = hypo_nationality_germany.dropna()\n",
    "hypo_nationality_germany = hypo_nationality_germany['AverageSkills'].tolist()\n",
    "hypo_nationality_germany = [ float(value) for value in list(hypo_nationality_germany) ]"
   ]
  },
  {
   "cell_type": "code",
   "execution_count": 13,
   "id": "ee7d8f1e",
   "metadata": {},
   "outputs": [
    {
     "name": "stdout",
     "output_type": "stream",
     "text": [
      "{'z-statictics': 9.269172682043527, 'p-value': -8.881784197001252e-16, 'degrees_of_freedom': 2018}\n"
     ]
    }
   ],
   "source": [
    "print(ht.independent_samples_z_test(\n",
    "    sample_one = hypo_nationality_brazil,\n",
    "    sample_two = hypo_nationality_germany\n",
    "))"
   ]
  },
  {
   "cell_type": "markdown",
   "id": "497ba030",
   "metadata": {},
   "source": [
    "The p-value is less than 0.05, so I can confidently reject the null hypothesis $H_0$ and proceed to check which country employs better players."
   ]
  },
  {
   "cell_type": "code",
   "execution_count": 14,
   "id": "dfe9727d",
   "metadata": {},
   "outputs": [],
   "source": [
    "brazil_mean = ds.mean(hypo_nationality_brazil)\n",
    "brazil_median = ds.median(hypo_nationality_brazil)\n",
    "brazil_std = ds.standard_deviation(hypo_nationality_brazil)\n",
    "\n",
    "germany_mean = ds.mean(hypo_nationality_germany)\n",
    "germany_median = ds.median(hypo_nationality_germany)\n",
    "germany_std = ds.standard_deviation(hypo_nationality_germany)"
   ]
  },
  {
   "cell_type": "code",
   "execution_count": 15,
   "id": "5bcc01c5",
   "metadata": {},
   "outputs": [
    {
     "name": "stdout",
     "output_type": "stream",
     "text": [
      "AverageSkills mean Brazil: 62.346060606060604 versus Germany: 54.92133891213389\n",
      "AverageSkills median Brazil: 68.0 versus Germany: 60.5\n",
      "AverageSkills standard deviation Brazil: 17.203026295100376 versus Germany: 18.386578061514815\n"
     ]
    },
    {
     "data": {
      "image/png": "[encoded data removed]",
      "text/plain": [
       "<Figure size 640x480 with 1 Axes>"
      ]
     },
     "metadata": {},
     "output_type": "display_data"
    },
    {
     "data": {
      "image/png": "[encoded data removed]",
      "text/plain": [
       "<Figure size 640x480 with 1 Axes>"
      ]
     },
     "metadata": {},
     "output_type": "display_data"
    },
    {
     "data": {
      "image/png": "[encoded data removed]",
      "text/plain": [
       "<Figure size 640x480 with 1 Axes>"
      ]
     },
     "metadata": {},
     "output_type": "display_data"
    }
   ],
   "source": [
    "print('AverageSkills mean Brazil:', brazil_mean, 'versus Germany:', germany_mean)\n",
    "print('AverageSkills median Brazil:', brazil_median, 'versus Germany:', germany_median)\n",
    "print('AverageSkills standard deviation Brazil:', brazil_std, 'versus Germany:', germany_std)\n",
    "\n",
    "plt.hist(hypo_nationality_brazil, density=True, bins=30, color='lightblue')\n",
    "plt.axvline(brazil_mean, color='red')\n",
    "plt.xticks(rotation=90)\n",
    "plt.gca().xaxis.set_major_formatter(ticker.FuncFormatter(lambda x, _: f'{int(x):,}'))\n",
    "plt.show()\n",
    "\n",
    "plt.hist(hypo_nationality_germany, density=True, bins=30, color='orange')\n",
    "plt.axvline(germany_mean, color='red')\n",
    "plt.xticks(rotation=90)\n",
    "plt.gca().xaxis.set_major_formatter(ticker.FuncFormatter(lambda x, _: f'{int(x):,}'))\n",
    "plt.show()\n",
    "\n",
    "plt.hist(hypo_nationality_brazil, density=True, bins=30, color='lightblue')\n",
    "plt.hist(hypo_nationality_germany, density=True, bins=30, color='orange')\n",
    "plt.xticks(rotation=90)\n",
    "plt.gca().xaxis.set_major_formatter(ticker.FuncFormatter(lambda x, _: f'{int(x):,}'))\n",
    "\n",
    "plt.show()"
   ]
  },
  {
   "cell_type": "markdown",
   "id": "2ceaaad6",
   "metadata": {},
   "source": [
    "Using common measurements, the answer is quite clear: Brazilian players have a better average skill rating than German players. Therefore, I can confirm the main hypothesis."
   ]
  },
  {
   "cell_type": "markdown",
   "id": "7b565033",
   "metadata": {},
   "source": [
    "### Step 4: Attacking players (for example: strikers and attacking midfielders) have significantly better passing skills than defenders.\n",
    "\n",
    "I divided the dataset of players into two groups based on their positions: offensive and defensive. The offensive positions include `[\"ST\" (Striker), \"CF\" (Center Forward), \"LW\" (Left Winger), \"RW\" (Right Winger), \"CAM\" (Central Attacking Midfielder), \"LF\" (Left Forward), \"RF\" (Right Forward), \"LM\" (Left Midfielder), \"RM\" (Right Midfielder)]`, while the defensive positions are `[\"CB\" (Center Back), \"LB\" (Left Back), \"RB\" (Right Back), \"LWB\" (Left Wing Back), \"RWB\" (Right Wing Back), \"CDM\" (Central Defensive Midfielder)]`.\n"
   ]
  },
  {
   "cell_type": "code",
   "execution_count": 16,
   "id": "0658f494",
   "metadata": {},
   "outputs": [],
   "source": [
    "offensive_positions = [\"ST\", \"CF\", \"LW\", \"RW\", \"CAM\", \"LF\", \"RF\", \"LM\", \"RM\"]\n",
    "defensive_positions = [\"CB\", \"LB\", \"RB\", \"LWB\", \"RWB\", \"CDM\"]"
   ]
  },
  {
   "cell_type": "code",
   "execution_count": 17,
   "id": "36c67f06",
   "metadata": {},
   "outputs": [
    {
     "data": {
      "text/html": [
       "<div>\n",
       "<style scoped>\n",
       "    .dataframe tbody tr th:only-of-type {\n",
       "        vertical-align: middle;\n",
       "    }\n",
       "\n",
       "    .dataframe tbody tr th {\n",
       "        vertical-align: top;\n",
       "    }\n",
       "\n",
       "    .dataframe thead th {\n",
       "        text-align: right;\n",
       "    }\n",
       "</style>\n",
       "<table border=\"1\" class=\"dataframe\">\n",
       "  <thead>\n",
       "    <tr style=\"text-align: right;\">\n",
       "      <th></th>\n",
       "      <th>Position</th>\n",
       "      <th>ShortPassing</th>\n",
       "      <th>LongPassing</th>\n",
       "      <th>AveragePassing</th>\n",
       "    </tr>\n",
       "  </thead>\n",
       "  <tbody>\n",
       "    <tr>\n",
       "      <th>0</th>\n",
       "      <td>RF</td>\n",
       "      <td>90.0</td>\n",
       "      <td>87.0</td>\n",
       "      <td>88.5</td>\n",
       "    </tr>\n",
       "    <tr>\n",
       "      <th>1</th>\n",
       "      <td>ST</td>\n",
       "      <td>81.0</td>\n",
       "      <td>77.0</td>\n",
       "      <td>79.0</td>\n",
       "    </tr>\n",
       "    <tr>\n",
       "      <th>2</th>\n",
       "      <td>LW</td>\n",
       "      <td>84.0</td>\n",
       "      <td>78.0</td>\n",
       "      <td>81.0</td>\n",
       "    </tr>\n",
       "    <tr>\n",
       "      <th>3</th>\n",
       "      <td>GK</td>\n",
       "      <td>50.0</td>\n",
       "      <td>51.0</td>\n",
       "      <td>50.5</td>\n",
       "    </tr>\n",
       "    <tr>\n",
       "      <th>4</th>\n",
       "      <td>RCM</td>\n",
       "      <td>92.0</td>\n",
       "      <td>91.0</td>\n",
       "      <td>91.5</td>\n",
       "    </tr>\n",
       "    <tr>\n",
       "      <th>...</th>\n",
       "      <td>...</td>\n",
       "      <td>...</td>\n",
       "      <td>...</td>\n",
       "      <td>...</td>\n",
       "    </tr>\n",
       "    <tr>\n",
       "      <th>18202</th>\n",
       "      <td>CM</td>\n",
       "      <td>49.0</td>\n",
       "      <td>45.0</td>\n",
       "      <td>47.0</td>\n",
       "    </tr>\n",
       "    <tr>\n",
       "      <th>18203</th>\n",
       "      <td>ST</td>\n",
       "      <td>43.0</td>\n",
       "      <td>25.0</td>\n",
       "      <td>34.0</td>\n",
       "    </tr>\n",
       "    <tr>\n",
       "      <th>18204</th>\n",
       "      <td>ST</td>\n",
       "      <td>38.0</td>\n",
       "      <td>28.0</td>\n",
       "      <td>33.0</td>\n",
       "    </tr>\n",
       "    <tr>\n",
       "      <th>18205</th>\n",
       "      <td>RW</td>\n",
       "      <td>42.0</td>\n",
       "      <td>32.0</td>\n",
       "      <td>37.0</td>\n",
       "    </tr>\n",
       "    <tr>\n",
       "      <th>18206</th>\n",
       "      <td>CM</td>\n",
       "      <td>48.0</td>\n",
       "      <td>44.0</td>\n",
       "      <td>46.0</td>\n",
       "    </tr>\n",
       "  </tbody>\n",
       "</table>\n",
       "<p>18207 rows × 4 columns</p>\n",
       "</div>"
      ],
      "text/plain": [
       "      Position  ShortPassing  LongPassing  AveragePassing\n",
       "0           RF          90.0         87.0            88.5\n",
       "1           ST          81.0         77.0            79.0\n",
       "2           LW          84.0         78.0            81.0\n",
       "3           GK          50.0         51.0            50.5\n",
       "4          RCM          92.0         91.0            91.5\n",
       "...        ...           ...          ...             ...\n",
       "18202       CM          49.0         45.0            47.0\n",
       "18203       ST          43.0         25.0            34.0\n",
       "18204       ST          38.0         28.0            33.0\n",
       "18205       RW          42.0         32.0            37.0\n",
       "18206       CM          48.0         44.0            46.0\n",
       "\n",
       "[18207 rows x 4 columns]"
      ]
     },
     "execution_count": 17,
     "metadata": {},
     "output_type": "execute_result"
    }
   ],
   "source": [
    "hypo_att_def = data[[\n",
    "    'Position',\n",
    "    'ShortPassing',\n",
    "    'LongPassing'\n",
    "]].copy()\n",
    "\n",
    "hypo_att_def['ShortPassing'] = hypo_att_def['ShortPassing'].astype(float)\n",
    "hypo_att_def['LongPassing'] = hypo_att_def['LongPassing'].astype(float)\n",
    "\n",
    "hypo_att_def['AveragePassing'] = ( hypo_att_def['LongPassing'] + hypo_att_def['ShortPassing'] ) / 2\n",
    "\n",
    "hypo_att_def"
   ]
  },
  {
   "cell_type": "code",
   "execution_count": 18,
   "id": "7966ef75",
   "metadata": {},
   "outputs": [],
   "source": [
    "hypo_att_def_offensive = hypo_att_def[ hypo_att_def['Position'].isin(offensive_positions) ]\n",
    "hypo_att_def_offensive = hypo_att_def_offensive.dropna()\n",
    "hypo_att_def_offensive = hypo_att_def_offensive['AveragePassing'].tolist()\n",
    "hypo_att_def_offensive = [ float(value) for value in hypo_att_def_offensive ]"
   ]
  },
  {
   "cell_type": "code",
   "execution_count": 19,
   "id": "86e6a0bc",
   "metadata": {},
   "outputs": [],
   "source": [
    "hypo_att_def_defensive = hypo_att_def[ hypo_att_def['Position'].isin(defensive_positions) ]\n",
    "hypo_att_def_defensive = hypo_att_def_defensive.dropna()\n",
    "hypo_att_def_defensive = hypo_att_def_defensive['AveragePassing'].tolist()\n",
    "hypo_att_def_defensive = [ float(value) for value in hypo_att_def_defensive ]"
   ]
  },
  {
   "cell_type": "code",
   "execution_count": 20,
   "id": "ba8d6073",
   "metadata": {},
   "outputs": [
    {
     "data": {
      "text/plain": [
       "{'z-statictics': 1.0889001328552346,\n",
       " 'p-value': 0.276197420638137,\n",
       " 'degrees_of_freedom': 11687}"
      ]
     },
     "execution_count": 20,
     "metadata": {},
     "output_type": "execute_result"
    }
   ],
   "source": [
    "ht.independent_samples_z_test(\n",
    "    sample_one = hypo_att_def_offensive,\n",
    "    sample_two = hypo_att_def_defensive\n",
    ")"
   ]
  },
  {
   "cell_type": "markdown",
   "id": "b077c2dc",
   "metadata": {},
   "source": [
    "The p-value was greater than 0.05, which means there is no basis to reject the null hypothesis that there is no difference in the average passing ability between offensive and defensive players."
   ]
  },
  {
   "cell_type": "code",
   "execution_count": 21,
   "id": "71b083a2",
   "metadata": {},
   "outputs": [],
   "source": [
    "offensive_mean = ds.mean(hypo_att_def_offensive)\n",
    "offensive_median = ds.median(hypo_att_def_offensive)\n",
    "offensive_std = ds.standard_deviation(hypo_att_def_offensive)\n",
    "\n",
    "defensive_mean = ds.mean(hypo_att_def_defensive)\n",
    "defensive_median = ds.median(hypo_att_def_defensive)\n",
    "defensive_std = ds.standard_deviation(hypo_att_def_defensive)"
   ]
  },
  {
   "cell_type": "code",
   "execution_count": 22,
   "id": "3287c761",
   "metadata": {},
   "outputs": [
    {
     "name": "stdout",
     "output_type": "stream",
     "text": [
      "AveragePassing mean offensive: 57.90994341147938 versus defensive: 57.694404069767444\n",
      "AveragePassing median offensive: 58.5 versus defensive: 59.5\n",
      "AveragePassing standard deviation offensive: 10.188094687602277 versus defensive: 11.103346217602104\n"
     ]
    },
    {
     "data": {
      "image/png": "[encoded data removed]",
      "text/plain": [
       "<Figure size 640x480 with 1 Axes>"
      ]
     },
     "metadata": {},
     "output_type": "display_data"
    },
    {
     "data": {
      "image/png": "[encoded data removed]",
      "text/plain": [
       "<Figure size 640x480 with 1 Axes>"
      ]
     },
     "metadata": {},
     "output_type": "display_data"
    },
    {
     "data": {
      "image/png": "[encoded data removed]",
      "text/plain": [
       "<Figure size 640x480 with 1 Axes>"
      ]
     },
     "metadata": {},
     "output_type": "display_data"
    }
   ],
   "source": [
    "print('AveragePassing mean offensive:', offensive_mean, 'versus defensive:', defensive_mean)\n",
    "print('AveragePassing median offensive:', offensive_median, 'versus defensive:', defensive_median)\n",
    "print('AveragePassing standard deviation offensive:', offensive_std, 'versus defensive:', defensive_std)\n",
    "\n",
    "plt.hist(hypo_att_def_offensive, density=True, bins=30, color='lightblue')\n",
    "plt.axvline(offensive_mean, color='red')\n",
    "plt.xticks(rotation=90)\n",
    "plt.gca().xaxis.set_major_formatter(ticker.FuncFormatter(lambda x, _: f'{int(x):,}'))\n",
    "plt.show()\n",
    "\n",
    "plt.hist(hypo_att_def_defensive, density=True, bins=30, color='orange')\n",
    "plt.axvline(defensive_mean, color='red')\n",
    "plt.xticks(rotation=90)\n",
    "plt.gca().xaxis.set_major_formatter(ticker.FuncFormatter(lambda x, _: f'{int(x):,}'))\n",
    "plt.show()\n",
    "\n",
    "plt.hist(hypo_att_def_offensive, density=True, bins=30, color='lightblue')\n",
    "plt.hist(hypo_att_def_defensive, density=True, bins=30, color='orange')\n",
    "plt.xticks(rotation=90)\n",
    "plt.gca().xaxis.set_major_formatter(ticker.FuncFormatter(lambda x, _: f'{int(x):,}'))\n",
    "\n",
    "plt.show()"
   ]
  },
  {
   "cell_type": "markdown",
   "id": "44f99440",
   "metadata": {},
   "source": [
    "The statistical measurements show almost identical results for both groups. This similarity is further confirmed by the histograms, which indicate that the data distributions for offensive and defensive players are very similar.\n",
    "\n",
    "**In summary**, across all the analyses in this experiment, we found significant differences in some cases—such as between younger and older players and between Brazilian and German players—while in others, like the comparison between offensive and defensive groups, no significant differences were detected. This comprehensive approach highlights how player value and skill metrics can vary depending on the context and criteria examined."
   ]
  }
 ],
 "metadata": {
  "kernelspec": {
   "display_name": "Python 3",
   "language": "python",
   "name": "python3"
  },
  "language_info": {
   "codemirror_mode": {
    "name": "ipython",
    "version": 3
   },
   "file_extension": ".py",
   "mimetype": "text/x-python",
   "name": "python",
   "nbconvert_exporter": "python",
   "pygments_lexer": "ipython3",
   "version": "3.12.4"
  }
 },
 "nbformat": 4,
 "nbformat_minor": 5
}
