{
 "cells": [
  {
   "cell_type": "markdown",
   "id": "a379bad3",
   "metadata": {},
   "source": [
    "## Step 1: Import data using pandas"
   ]
  },
  {
   "cell_type": "code",
   "execution_count": null,
   "id": "74492161",
   "metadata": {},
   "outputs": [
    {
     "name": "stdout",
     "output_type": "stream",
     "text": [
      "44, 34, 49, 49, 69, 48, 48, 51, 83, 67, 49, 34, 95, 48, 44, 49, 95, 34, 48, 49, 65, 49, 48, 77, 48, 67, 48, 83, 95, 49, 34, 49, 48, 44, 48, 95, 34, 49, 50, 69, 48, 48, 49, 83, 67, 48, 34, 95, 48, 44, 49, 95, 34, 48, 51, 65, 49, 48, 77, 48, 67, 54, 83, 95, 48, 34, 49, 48, 44, 48, 95, 34, 49, 52, 69, 48, 48, 55, 83, 67, 51, 34, 95, 48, 44, 49, 95, 34, 48, 53, 65, 49, 48, 77, 48, 67, 52, 83, 95, 50, 34, 49, 48, 44, 48, 95, 34, 49, 54, 69, 48, 48, 53, 83, 67, 50, 34, 95, 48, 44, 49, 95, 34, 48, 54, 116, 117, 57, 57, 52, 51, 108, 56, 49, 110, 46, 108, 44, 108, 44, 56, 34, 54, 52, 51, 49, 52, 44, 44, 56, 56, 44, 110, 46, 117, 108, 56, 56, 49, 56, 53, 51, 56, 51, 108, 41, 34, 110, 46, 108, 44, 108, 44, 56, 56, "
     ]
    }
   ],
   "source": []
  }
 ],
 "metadata": {
  "kernelspec": {
   "display_name": "Python 3",
   "language": "python",
   "name": "python3"
  },
  "language_info": {
   "codemirror_mode": {
    "name": "ipython",
    "version": 3
   },
   "file_extension": ".py",
   "mimetype": "text/x-python",
   "name": "python",
   "nbconvert_exporter": "python",
   "pygments_lexer": "ipython3",
   "version": "3.12.4"
  }
 },
 "nbformat": 4,
 "nbformat_minor": 5
}
